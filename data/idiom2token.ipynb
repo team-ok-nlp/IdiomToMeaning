{
 "cells": [
  {
   "cell_type": "code",
   "execution_count": 226,
   "id": "f24a7b8e",
   "metadata": {},
   "outputs": [],
   "source": [
    "import pandas as pd\n",
    "import numpy as np\n",
    "import re\n",
    "import MeCab\n",
    "data = pd.read_excel('idiom_mod_data.xlsx')"
   ]
  },
  {
   "cell_type": "code",
   "execution_count": 227,
   "id": "ce17e582",
   "metadata": {},
   "outputs": [],
   "source": [
    "# load raw dataset and drop nan\n",
    "df = data[['어휘','수정']]\n",
    "df = df.dropna(axis=0) # 애매한 의미 제거 \n",
    "#df.head(30)"
   ]
  },
  {
   "cell_type": "markdown",
   "id": "002ab4d0",
   "metadata": {},
   "source": [
    "# Preprocessing\n",
    "\n",
    "### 관용구 사전 생성\n",
    "1. 관용구 데이터 정리\n",
    "2. 다중 관용구 분리\n",
    "3. 관용구 - 의미 쌍 데이터 생성"
   ]
  },
  {
   "cell_type": "code",
   "execution_count": 147,
   "id": "26f77167",
   "metadata": {},
   "outputs": [
    {
     "name": "stdout",
     "output_type": "stream",
     "text": [
      "5371\n",
      "5371\n"
     ]
    }
   ],
   "source": [
    "dics = df.values.tolist()\n",
    "\n",
    "# ()처리 포함, 제거 두 예제로 나눔 \n",
    "idiom_list_pre = []\n",
    "meaning_list_pre = []\n",
    "for d in dics:\n",
    "    idiom = d[0]\n",
    "    meaning = d[1]\n",
    "    parentheses = re.findall('\\(.*?\\)', idiom) # extract 조사 in ()\n",
    "    \n",
    "    if len(parentheses) != 0:\n",
    "        # 1. () 제외\n",
    "        idiom_list_pre.append(\\\n",
    "                    re.sub('\\(.*?\\)', '', idiom))\n",
    "        meaning_list_pre.append(meaning)\n",
    "\n",
    "        # 2. ()안 조사 포함\n",
    "        idiom_list_pre.append(\\\n",
    "                re.sub('[\\(,\\)]', '', idiom))\n",
    "        meaning_list_pre.append(meaning)\n",
    "\n",
    "    else:\n",
    "        idiom_list_pre.append(idiom)\n",
    "        meaning_list_pre.append(meaning)\n",
    "print(\"idiom\", len(idiom_list_pre))\n",
    "print(\"meaning\", len(meaning_list_pre))"
   ]
  },
  {
   "cell_type": "code",
   "execution_count": 148,
   "id": "a63b713a",
   "metadata": {},
   "outputs": [
    {
     "name": "stdout",
     "output_type": "stream",
     "text": [
      "5804\n",
      "5804\n"
     ]
    }
   ],
   "source": [
    "# 다중 관용구 처리\n",
    "idiom_list = []\n",
    "meaning_list = []\n",
    "for i, m in zip(idiom_list_pre, meaning_list_pre):\n",
    "    # 의미 빈거 제거 (애매한 의미 등)\n",
    "    idiom = i.replace('\\n','')\n",
    "    meaning = m.replace('\\n','')\n",
    "    #print(idiom)\n",
    "    items = re.findall('\\[.*?\\]', idiom) #extracts string in bracket[] print items\n",
    "    parentheses = re.findall('\\(.*?\\)', idiom) # extract 조사 in ()\n",
    "    \n",
    "    if len(items) != 0:\n",
    "        # original\n",
    "        idiom_list.append(\\\n",
    "                re.sub('\\[.*?\\]', '', idiom))\n",
    "        meaning_list.append(meaning)\n",
    "        \n",
    "        # replace pair set\n",
    "        rep_list = []\n",
    "        str_list = idiom.split(' ')\n",
    "        for word in str_list:\n",
    "            for rep in items:\n",
    "                if rep in word:\n",
    "                    rep_list.append([word.replace(rep,''), rep])\n",
    "\n",
    "        for pair in rep_list:\n",
    "            # 유사어 여러개 있을때\n",
    "            if '/' in pair[1]:\n",
    "                reps = re.sub('[\\[\\]]','',pair[1]).split('/')\n",
    "                #print(reps)\n",
    "                for r in reps:\n",
    "                    idiom_list.append(\\\n",
    "                            re.sub('\\[.*?\\]', '', (idiom.replace(pair[0]+pair[1], r))))\n",
    "                    meaning_list.append(meaning)\n",
    "            else:\n",
    "                idiom_list.append(\\\n",
    "                        re.sub('\\[.*?\\]', '',\\\n",
    "                            (idiom.replace(pair[0]+pair[1], re.sub('[\\[\\]]','', pair[1])))))\n",
    "                meaning_list.append(meaning)\n",
    "    \n",
    "    else:\n",
    "        idiom_list.append(idiom)\n",
    "        meaning_list.append(meaning)\n",
    "        \n",
    "print(\"idiom\", len(idiom_list_pre))\n",
    "print(\"meaning\", len(meaning_list_pre))"
   ]
  },
  {
   "cell_type": "markdown",
   "id": "55a03eae",
   "metadata": {},
   "source": [
    "# tokenizing with spacing token\n",
    "1. 관용구 - 의미 쌍 토크나이징\n",
    "2. 관용구는 띄어쓰기 토큰 없이 토크나이징 (띄어쓰기 토큰 포함시 제대로 토크나이징 안됨)\n",
    "3. 의미는 띄어쓰기 토큰 포함하여 토크나이징 (문장에 포함시 띄어쓰기 정보 사용하기 위해)"
   ]
  },
  {
   "cell_type": "code",
   "execution_count": 166,
   "id": "1224d148",
   "metadata": {},
   "outputs": [],
   "source": [
    "# 형태소 분석, \"/n, . 처리\"\n",
    "# save idiom dictionary to csv file\n",
    "spacing_tkn = '__'"
   ]
  },
  {
   "cell_type": "code",
   "execution_count": 214,
   "id": "53224168",
   "metadata": {},
   "outputs": [],
   "source": [
    "# 형태소 분석\n",
    "# \" 허리 가 __꼿꼿 하 ㄴ __철수\"\n",
    "mecab = MeCab.Tagger()\n",
    "\n",
    "def tokenize(text, spacing_tkn=' '):\n",
    "    # replace white space to spacing token\n",
    "    text_spacing = text.replace(' ', spacing_tkn)\n",
    "    text_spacing = text_spacing + \".\"\n",
    "    # tokenize\n",
    "    pos = mecab.parse(text_spacing).split('\\n')\n",
    "    tokens = []\n",
    "    for i, p in enumerate(pos):\n",
    "        #print(p)\n",
    "        token = p.split('\\t')[0]\n",
    "        if token == \"EOS\":\n",
    "            break\n",
    "        \n",
    "        tag = p.split('\\t')[1].split(',')[0]\n",
    "        # 연결 어미, 종결 어미 제외\n",
    "        if tag == \"EF\" or tag == \"SF\" or token == \"EOS\":\n",
    "            break\n",
    "        if tag == \"EC\" and len(pos) == i+3:\n",
    "            if token != \"다\":\n",
    "                print(text)\n",
    "                print(p)\n",
    "            break\n",
    "        if \"다\" in token and len(pos) == i+3:\n",
    "            token = token.replace('다','')\n",
    "\n",
    "        features = p.split(',')\n",
    "        if features[-1] != '*':\n",
    "            # 복합 일때\n",
    "            if '+' in features[-1]: \n",
    "                for f in features[-1].split('+'):\n",
    "                    tokens.append(f.split('/')[0])\n",
    "            # 단일\n",
    "            else:\n",
    "                tokens.append(token)\n",
    "        else:\n",
    "            tokens.append(token)\n",
    "    return tokens\n"
   ]
  },
  {
   "cell_type": "code",
   "execution_count": 215,
   "id": "8f948c93",
   "metadata": {},
   "outputs": [
    {
     "name": "stdout",
     "output_type": "stream",
     "text": [
      "['가늠', '보다', '.']\n",
      "가늠 보다 .\n"
     ]
    }
   ],
   "source": [
    "# # test\n",
    "# #tokenized = tokenize(\"분위기, 상황, 생각 따위를 이치나 논리에 따라 바로잡다.\")\n",
    "# tokenized = tokenize(\"가늠 보다\", spacing_tkn=' ')\n",
    "# print(tokenized)\n",
    "# print(' '.join(tokenized))"
   ]
  },
  {
   "cell_type": "code",
   "execution_count": 211,
   "id": "2ddd8933",
   "metadata": {},
   "outputs": [
    {
     "name": "stdout",
     "output_type": "stream",
     "text": [
      "5804\n"
     ]
    }
   ],
   "source": [
    "# tokenizing (idiom, meaning)\n",
    "idiom_df = pd.DataFrame(columns=['idiom', 'meaning'])\n",
    "for i, m in zip(idiom_list, meaning_list):\n",
    "    idiom = ' '.join(tokenize(i, spacing_tkn=' '))\n",
    "    meaning = ' '.join(tokenize(m))\n",
    "    idiom_df = idiom_df.append(pd.DataFrame([[idiom, meaning]], columns=['idiom', 'meaning']), ignore_index=True)\n",
    "\n",
    "print(len(idiom_df))\n",
    "#idiom_df.head(10)"
   ]
  },
  {
   "cell_type": "code",
   "execution_count": 228,
   "id": "572c3325",
   "metadata": {},
   "outputs": [
    {
     "data": {
      "text/html": [
       "<div>\n",
       "<style scoped>\n",
       "    .dataframe tbody tr th:only-of-type {\n",
       "        vertical-align: middle;\n",
       "    }\n",
       "\n",
       "    .dataframe tbody tr th {\n",
       "        vertical-align: top;\n",
       "    }\n",
       "\n",
       "    .dataframe thead th {\n",
       "        text-align: right;\n",
       "    }\n",
       "</style>\n",
       "<table border=\"1\" class=\"dataframe\">\n",
       "  <thead>\n",
       "    <tr style=\"text-align: right;\">\n",
       "      <th></th>\n",
       "      <th>idiom</th>\n",
       "      <th>meaning</th>\n",
       "    </tr>\n",
       "  </thead>\n",
       "  <tbody>\n",
       "    <tr>\n",
       "      <th>0</th>\n",
       "      <td>가꾸로 박히</td>\n",
       "      <td>머리 를 땅 으로 향하 ᆫ 채 떨어지</td>\n",
       "    </tr>\n",
       "    <tr>\n",
       "      <th>1</th>\n",
       "      <td>가난 들</td>\n",
       "      <td>가난 하 게 되</td>\n",
       "    </tr>\n",
       "    <tr>\n",
       "      <th>2</th>\n",
       "      <td>가난 이 들</td>\n",
       "      <td>가난 하 게 되</td>\n",
       "    </tr>\n",
       "    <tr>\n",
       "      <th>3</th>\n",
       "      <td>가난 이 파고들</td>\n",
       "      <td>더욱더 가난 하 아 지</td>\n",
       "    </tr>\n",
       "    <tr>\n",
       "      <th>4</th>\n",
       "      <td>가늠 보다</td>\n",
       "      <td>형편 이나 시세 따위 를 살피</td>\n",
       "    </tr>\n",
       "    <tr>\n",
       "      <th>5</th>\n",
       "      <td>가늠 을 보</td>\n",
       "      <td>형편 이나 시세 따위 를 살피</td>\n",
       "    </tr>\n",
       "    <tr>\n",
       "      <th>6</th>\n",
       "      <td>가늠 잡</td>\n",
       "      <td>형편 이나 시세 따위 를 살피</td>\n",
       "    </tr>\n",
       "    <tr>\n",
       "      <th>7</th>\n",
       "      <td>가늠 을 잡</td>\n",
       "      <td>형편 이나 시세 따위 를 살피</td>\n",
       "    </tr>\n",
       "    <tr>\n",
       "      <th>8</th>\n",
       "      <td>가늠 이 가</td>\n",
       "      <td>짐작 이나 헤아리 ᄆ 이 이루어지 거나 미치</td>\n",
       "    </tr>\n",
       "    <tr>\n",
       "      <th>9</th>\n",
       "      <td>가닥 을 잡</td>\n",
       "      <td>분위기 , 상황 , 생각 따위 를 이치 나 논리 에 따르 아 바로잡</td>\n",
       "    </tr>\n",
       "  </tbody>\n",
       "</table>\n",
       "</div>"
      ],
      "text/plain": [
       "      idiom                                meaning\n",
       "0    가꾸로 박히                   머리 를 땅 으로 향하 ᆫ 채 떨어지\n",
       "1      가난 들                               가난 하 게 되\n",
       "2    가난 이 들                               가난 하 게 되\n",
       "3  가난 이 파고들                           더욱더 가난 하 아 지\n",
       "4     가늠 보다                       형편 이나 시세 따위 를 살피\n",
       "5    가늠 을 보                       형편 이나 시세 따위 를 살피\n",
       "6      가늠 잡                       형편 이나 시세 따위 를 살피\n",
       "7    가늠 을 잡                       형편 이나 시세 따위 를 살피\n",
       "8    가늠 이 가               짐작 이나 헤아리 ᄆ 이 이루어지 거나 미치\n",
       "9    가닥 을 잡  분위기 , 상황 , 생각 따위 를 이치 나 논리 에 따르 아 바로잡"
      ]
     },
     "execution_count": 228,
     "metadata": {},
     "output_type": "execute_result"
    }
   ],
   "source": [
    "idiom_df.head(10)"
   ]
  },
  {
   "cell_type": "code",
   "execution_count": 213,
   "id": "e5ada3f9",
   "metadata": {},
   "outputs": [],
   "source": [
    "# save tokenized idiom, meaning to csv file\n",
    "idiom_df.to_csv('tokenized_idiom.csv', index=False)"
   ]
  },
  {
   "cell_type": "markdown",
   "id": "d4211bf3",
   "metadata": {},
   "source": [
    "# Idiom to meaning test"
   ]
  },
  {
   "cell_type": "code",
   "execution_count": 232,
   "id": "729fdbdf",
   "metadata": {},
   "outputs": [],
   "source": [
    "def raw_tokenize(text, spacing_tkn=' '):\n",
    "    # replace white space to spacing token\n",
    "    text_spacing = text.replace(' ', spacing_tkn)\n",
    "    # tokenize\n",
    "    pos = mecab.parse(text_spacing).split('\\n')\n",
    "    tokens = []\n",
    "    for i, p in enumerate(pos):\n",
    "        #print(p)\n",
    "        token = p.split('\\t')[0]\n",
    "        # 연결 어미, 종결 어미 제외\n",
    "        if token == \"EOS\":\n",
    "            break\n",
    "        features = p.split(',')\n",
    "        if features[-1] != '*':\n",
    "            # 복합 일때\n",
    "            if '+' in features[-1]: \n",
    "                for f in features[-1].split('+'):\n",
    "                    tokens.append(f.split('/')[0])\n",
    "            # 단일\n",
    "            else:\n",
    "                tokens.append(token)\n",
    "        else:\n",
    "            tokens.append(token)\n",
    "    return tokens\n",
    "\n",
    "def idiom2mean(raw, dic):\n",
    "    c_list = raw.split(' ')\n",
    "    print(\"spacing info\", c_list)\n",
    "    print('\\n')\n",
    "\n",
    "    print(\"raw\", raw)\n",
    "    tokenized = ' '.join(raw_tokenize(raw, spacing_tkn=' '))\n",
    "    print(\"tokenized\", tokenized)\n",
    "    for key in dic.keys():\n",
    "        #print(key)\n",
    "        if key in tokenized:\n",
    "            meaning = tokenized.replace(key, dic[key])\n",
    "            print(\"replaced meaning\", meaning)\n",
    "            meaning = meaning.replace(' ','').replace('__',' ')\n",
    "            #print(meaning)\n",
    "\n",
    "    for c in c_list:\n",
    "        if c in meaning:\n",
    "            meaning = meaning.replace(c, (c+' '))\n",
    "    #print(\"used spacing info\", meaning)"
   ]
  },
  {
   "cell_type": "code",
   "execution_count": 234,
   "id": "10ab8224",
   "metadata": {},
   "outputs": [
    {
     "name": "stdout",
     "output_type": "stream",
     "text": [
      "spacing info ['가락이', '나는', '친구들이랑', '해야', '폰파라치도', '돈', '벌', '수', '있어요.']\n",
      "\n",
      "\n",
      "raw 가락이 나는 친구들이랑 해야 폰파라치도 돈 벌 수 있어요.\n",
      "tokenized 가락 이 나 는 친구 들 이랑 하 아야 폰 파라 하 지 도 돈 벌 ᆯ 수 있 어요 .\n",
      "replaced meaning 행동 이 __ 서로 __ 잘 __ 들어맞 는 친구 들 이랑 하 아야 폰 파라 하 지 도 돈 벌 ᆯ 수 있 어요 .\n"
     ]
    }
   ],
   "source": [
    "dic = {\"하 ᆯ 말 을 잊 \":\"놀랍 거나 __ 어처구니없 는 __ 일 을 __ 당하 여 __ 기 가 __ 막히\",\n",
    "       \"가늠 이 가\":\"짐작 이나 __ 헤아리 ᄆ 이 __ 이루어지 거나 __ 미치\",\n",
    "       \"힘 을 돌리\":\"어떤 __ 일 을 __ 이루 려고 __ 거기 에 __ 노력 을 __ 들 이\",\n",
    "       \"황천 가\":\"사람 이 __ 죽\",\n",
    "       \"가락 이 나\":\"행동 이 __ 서로 __ 잘 __ 들어맞\"\n",
    "      }\n",
    "#raw = \"그는 그들이 왜 자기만 잡아 왔는지 도무지 가늠이 가지 않아 답답했다.\"\n",
    "raw = \"가락이 나는 친구들이랑 해야 폰파라치도 돈 벌 수 있어요.\"\n",
    "#raw = \"외부에 힘을 돌리기는 커녕 눈을 돌릴 겨를도 없을 거요.\"\n",
    "#raw = \"황천 가는 수가 있어, 쥐도 새도 모르게. 뒤에서 어느 놈이 푹 찌르면 끝이라고.\"\n",
    "idiom2mean(raw, dic)"
   ]
  },
  {
   "cell_type": "code",
   "execution_count": null,
   "id": "e1f9541d",
   "metadata": {},
   "outputs": [],
   "source": []
  }
 ],
 "metadata": {
  "kernelspec": {
   "display_name": "Python 3",
   "language": "python",
   "name": "python3"
  },
  "language_info": {
   "codemirror_mode": {
    "name": "ipython",
    "version": 3
   },
   "file_extension": ".py",
   "mimetype": "text/x-python",
   "name": "python",
   "nbconvert_exporter": "python",
   "pygments_lexer": "ipython3",
   "version": "3.8.0"
  }
 },
 "nbformat": 4,
 "nbformat_minor": 5
}
